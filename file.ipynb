{
 "cells": [
  {
   "cell_type": "code",
   "execution_count": null,
   "id": "56f287e4",
   "metadata": {},
   "outputs": [],
   "source": [
    "#opening File in Readmode\n",
    "with open('Julian.txt', 'r') as file:\n",
    "    contents = file.read()\n",
    "    print(contents)"
   ]
  },
  {
   "cell_type": "code",
   "execution_count": null,
   "id": "f27b1170",
   "metadata": {},
   "outputs": [
    {
     "name": "stdout",
     "output_type": "stream",
     "text": [
      "welcomeHello\n"
     ]
    }
   ],
   "source": [
    "#opening File in Readmode\n",
    "with open('Julian.txt', 'r') as file:\n",
    "    contens = file.read()\n",
    "    print(contents)"
   ]
  },
  {
   "cell_type": "code",
   "execution_count": 7,
   "id": "2dac5ba5",
   "metadata": {},
   "outputs": [],
   "source": [
    "with open('Julian.txt', 'w') as file:\n",
    "     file.write('welcome')\n",
    "     file.write('Hello')"
   ]
  },
  {
   "cell_type": "markdown",
   "id": "4f2b3648",
   "metadata": {},
   "source": []
  },
  {
   "cell_type": "code",
   "execution_count": 2,
   "id": "dc9e46c1",
   "metadata": {},
   "outputs": [
    {
     "name": "stdout",
     "output_type": "stream",
     "text": [
      "   Duration  Pulse  Maxpulse  Calories\n",
      "0        60    110       130     409.1\n",
      "1        60    117       145     479.0\n",
      "2        60    103       135     340.0\n",
      "3        45    109       175     282.4\n",
      "4        45    117       148     406.0\n",
      "Duration    0\n",
      "Pulse       0\n",
      "Maxpulse    0\n",
      "Calories    5\n",
      "dtype: int64\n"
     ]
    }
   ],
   "source": [
    "import pandas as pd\n",
    "csv_df=pd.read_csv('data.csv')\n",
    "print(csv_df.head())\n",
    "print(csv_df.isnull().sum())"
   ]
  }
 ],
 "metadata": {
  "kernelspec": {
   "display_name": "Python 3",
   "language": "python",
   "name": "python3"
  },
  "language_info": {
   "codemirror_mode": {
    "name": "ipython",
    "version": 3
   },
   "file_extension": ".py",
   "mimetype": "text/x-python",
   "name": "python",
   "nbconvert_exporter": "python",
   "pygments_lexer": "ipython3",
   "version": "3.13.3"
  }
 },
 "nbformat": 4,
 "nbformat_minor": 5
}
